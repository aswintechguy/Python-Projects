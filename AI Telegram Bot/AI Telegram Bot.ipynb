{
 "cells": [
  {
   "cell_type": "code",
   "execution_count": null,
   "id": "1521b95d-5e26-47c1-a647-a3095dd5f141",
   "metadata": {},
   "outputs": [],
   "source": [
    "# install the module\n",
    "!pip install telethon"
   ]
  },
  {
   "cell_type": "code",
   "execution_count": null,
   "id": "4972146e-a3e0-4cab-9d99-d6502a46d1dd",
   "metadata": {},
   "outputs": [],
   "source": [
    "# go to url - https://my.telegram.org/auth"
   ]
  },
  {
   "cell_type": "code",
   "execution_count": null,
   "id": "7f26b598-c1d5-4574-869b-fc67407814c3",
   "metadata": {},
   "outputs": [],
   "source": [
    "api_id = \"<your_api_id>\"\n",
    "api_hash = \"<your_api_hash>\""
   ]
  },
  {
   "cell_type": "code",
   "execution_count": 2,
   "id": "adbd9975-41ee-4c70-b3bf-a01cbceaa47c",
   "metadata": {},
   "outputs": [],
   "source": [
    "bot_token = \"7523836567:AAFBWyA7QkCRr8EreFXzbsY2gHQC1Sg2aYY\""
   ]
  },
  {
   "cell_type": "markdown",
   "id": "d3311cbe-9f49-4879-a97c-042d9ae26055",
   "metadata": {},
   "source": [
    "## Import Modules"
   ]
  },
  {
   "cell_type": "code",
   "execution_count": 3,
   "id": "fd2e6137-ab9e-440f-8d3a-6c961f478543",
   "metadata": {},
   "outputs": [],
   "source": [
    "import nest_asyncio\n",
    "nest_asyncio.apply()\n",
    "import logging\n",
    "import asyncio\n",
    "from telethon import TelegramClient, events\n",
    "from openai import OpenAI"
   ]
  },
  {
   "cell_type": "code",
   "execution_count": 4,
   "id": "3e26d83c-7957-4589-818d-d5788ebcb907",
   "metadata": {},
   "outputs": [],
   "source": [
    "# setup logging\n",
    "logging.basicConfig(level=logging.INFO)\n",
    "\n",
    "# create telegram client\n",
    "client = TelegramClient('bot', api_id, api_hash)\n",
    "# create ai client\n",
    "ai_client = OpenAI()"
   ]
  },
  {
   "cell_type": "code",
   "execution_count": 5,
   "id": "7e40bdf8-7ab3-4374-b53d-9689a68bdb74",
   "metadata": {},
   "outputs": [],
   "source": [
    "async def main():\n",
    "    # start the client\n",
    "    await client.start(bot_token=bot_token)\n",
    "\n",
    "    # handler for /start command\n",
    "    @client.on(events.NewMessage(pattern='/start'))\n",
    "    async def start_handler(event):\n",
    "        await event.respond(\"Hello! I am Hackers Realm AI Bot. How can I assist you today?\")\n",
    "        logging.info(f'Start command received from {event.sender_id}')\n",
    "\n",
    "    # handler for /info command\n",
    "    @client.on(events.NewMessage(pattern='/info'))\n",
    "    async def info_handler(event):\n",
    "        await event.respond(\"This AI Chatbot is created in Python with OpenAI API.\")\n",
    "        logging.info(f'Info command received from {event.sender_id}')\n",
    "\n",
    "    # handler for /help command\n",
    "    @client.on(events.NewMessage(pattern='/help'))\n",
    "    async def help_hander(event):\n",
    "        help_text = (\n",
    "            \"Here are the commands you can use:\\n\"\n",
    "            \"/start - Start the bot\\n\"\n",
    "            \"/help - Get Help Information\\n\"\n",
    "            \"/info - Get Information about the Bot\\n\"\n",
    "        )\n",
    "        await event.respond(help_text)\n",
    "        logging.info(f\"Help command received from {event.sender_id}\")\n",
    "\n",
    "    # keyword based response handler\n",
    "    @client.on(events.NewMessage)\n",
    "    async def keyword_responder(event):\n",
    "        # get the message text\n",
    "        message = event.text.lower()\n",
    "        if message in ['/start', '/help', '/info']:\n",
    "            return\n",
    "\n",
    "        # get response from AI client\n",
    "        response = ai_client.chat.completions.create(\n",
    "            model='gpt-4o-mini',\n",
    "            messages=[\n",
    "                {\n",
    "                    'role': 'user', \"content\": message\n",
    "                }\n",
    "            ],\n",
    "            max_tokens=128\n",
    "        )\n",
    "\n",
    "        # get content from response\n",
    "        response = response.choices[0].message.content\n",
    "        if response:\n",
    "            await event.respond(response)\n",
    "        logging.info(f\"Message received from {event.sender_id}: {event.text}\")\n",
    "\n",
    "    await client.run_until_disconnected()"
   ]
  },
  {
   "cell_type": "code",
   "execution_count": 1,
   "id": "7f7b2d3b-46c0-4819-adfb-58b30f3ebe83",
   "metadata": {},
   "outputs": [],
   "source": [
    "asyncio.run(main())"
   ]
  },
  {
   "cell_type": "code",
   "execution_count": null,
   "id": "faf1589b-11ac-463b-ba93-4132c1d7d3f2",
   "metadata": {},
   "outputs": [],
   "source": []
  }
 ],
 "metadata": {
  "kernelspec": {
   "display_name": "Python 3 (ipykernel)",
   "language": "python",
   "name": "python3"
  },
  "language_info": {
   "codemirror_mode": {
    "name": "ipython",
    "version": 3
   },
   "file_extension": ".py",
   "mimetype": "text/x-python",
   "name": "python",
   "nbconvert_exporter": "python",
   "pygments_lexer": "ipython3",
   "version": "3.12.3"
  },
  "widgets": {
   "application/vnd.jupyter.widget-state+json": {
    "state": {},
    "version_major": 2,
    "version_minor": 0
   }
  }
 },
 "nbformat": 4,
 "nbformat_minor": 5
}
