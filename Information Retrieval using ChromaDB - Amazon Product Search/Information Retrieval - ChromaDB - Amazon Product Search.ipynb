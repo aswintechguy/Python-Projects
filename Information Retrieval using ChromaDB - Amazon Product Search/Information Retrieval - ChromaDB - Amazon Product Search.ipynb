{
 "cells": [
  {
   "cell_type": "markdown",
   "id": "cfb3bb8d-695b-4e00-bfd9-37dcbf5a7738",
   "metadata": {},
   "source": [
    "## Install Modules"
   ]
  },
  {
   "cell_type": "code",
   "execution_count": 1,
   "id": "3fb50ece-166b-495a-b041-e025676ffb8b",
   "metadata": {},
   "outputs": [],
   "source": [
    "# !pip install chromadb sentence-transformers"
   ]
  },
  {
   "cell_type": "markdown",
   "id": "062440b1-453e-4085-90e6-faeb195832e8",
   "metadata": {},
   "source": [
    "## Import Modules"
   ]
  },
  {
   "cell_type": "code",
   "execution_count": 2,
   "id": "a543eb9a-53b1-40ae-beb5-4333cbe07851",
   "metadata": {},
   "outputs": [],
   "source": [
    "import pandas as pd\n",
    "import chromadb\n",
    "from chromadb.config import Settings\n",
    "from sentence_transformers import SentenceTransformer"
   ]
  },
  {
   "cell_type": "markdown",
   "id": "6768fa01-06e8-4a50-ae13-cd642e59615f",
   "metadata": {},
   "source": [
    "## Load the Dataset"
   ]
  },
  {
   "cell_type": "code",
   "execution_count": 4,
   "id": "4721b6d1-6218-4b2f-a366-5fd7cdc835ea",
   "metadata": {},
   "outputs": [
    {
     "data": {
      "text/html": [
       "<div>\n",
       "<style scoped>\n",
       "    .dataframe tbody tr th:only-of-type {\n",
       "        vertical-align: middle;\n",
       "    }\n",
       "\n",
       "    .dataframe tbody tr th {\n",
       "        vertical-align: top;\n",
       "    }\n",
       "\n",
       "    .dataframe thead th {\n",
       "        text-align: right;\n",
       "    }\n",
       "</style>\n",
       "<table border=\"1\" class=\"dataframe\">\n",
       "  <thead>\n",
       "    <tr style=\"text-align: right;\">\n",
       "      <th></th>\n",
       "      <th>product_name</th>\n",
       "      <th>category</th>\n",
       "      <th>about_product</th>\n",
       "    </tr>\n",
       "  </thead>\n",
       "  <tbody>\n",
       "    <tr>\n",
       "      <th>0</th>\n",
       "      <td>Wayona Nylon Braided USB to Lightning Fast Cha...</td>\n",
       "      <td>Computers&amp;Accessories|Accessories&amp;Peripherals|...</td>\n",
       "      <td>High Compatibility : Compatible With iPhone 12...</td>\n",
       "    </tr>\n",
       "    <tr>\n",
       "      <th>1</th>\n",
       "      <td>Ambrane Unbreakable 60W / 3A Fast Charging 1.5...</td>\n",
       "      <td>Computers&amp;Accessories|Accessories&amp;Peripherals|...</td>\n",
       "      <td>Compatible with all Type C enabled devices, be...</td>\n",
       "    </tr>\n",
       "    <tr>\n",
       "      <th>2</th>\n",
       "      <td>Sounce Fast Phone Charging Cable &amp; Data Sync U...</td>\n",
       "      <td>Computers&amp;Accessories|Accessories&amp;Peripherals|...</td>\n",
       "      <td>【 Fast Charger&amp; Data Sync】-With built-in safet...</td>\n",
       "    </tr>\n",
       "  </tbody>\n",
       "</table>\n",
       "</div>"
      ],
      "text/plain": [
       "                                        product_name  ...                                      about_product\n",
       "0  Wayona Nylon Braided USB to Lightning Fast Cha...  ...  High Compatibility : Compatible With iPhone 12...\n",
       "1  Ambrane Unbreakable 60W / 3A Fast Charging 1.5...  ...  Compatible with all Type C enabled devices, be...\n",
       "2  Sounce Fast Phone Charging Cable & Data Sync U...  ...  【 Fast Charger& Data Sync】-With built-in safet...\n",
       "\n",
       "[3 rows x 3 columns]"
      ]
     },
     "execution_count": 4,
     "metadata": {},
     "output_type": "execute_result"
    }
   ],
   "source": [
    "df = pd.read_csv('amazon.csv')\n",
    "df = df[['product_name', 'category', 'about_product']]\n",
    "df.head(3)"
   ]
  },
  {
   "cell_type": "code",
   "execution_count": 5,
   "id": "6821a54e-351f-499e-aebb-0a1d296c973c",
   "metadata": {},
   "outputs": [
    {
     "data": {
      "text/html": [
       "<div>\n",
       "<style scoped>\n",
       "    .dataframe tbody tr th:only-of-type {\n",
       "        vertical-align: middle;\n",
       "    }\n",
       "\n",
       "    .dataframe tbody tr th {\n",
       "        vertical-align: top;\n",
       "    }\n",
       "\n",
       "    .dataframe thead th {\n",
       "        text-align: right;\n",
       "    }\n",
       "</style>\n",
       "<table border=\"1\" class=\"dataframe\">\n",
       "  <thead>\n",
       "    <tr style=\"text-align: right;\">\n",
       "      <th></th>\n",
       "      <th>product_name</th>\n",
       "      <th>category</th>\n",
       "      <th>about_product</th>\n",
       "      <th>combined_text</th>\n",
       "    </tr>\n",
       "  </thead>\n",
       "  <tbody>\n",
       "    <tr>\n",
       "      <th>0</th>\n",
       "      <td>Wayona Nylon Braided USB to Lightning Fast Cha...</td>\n",
       "      <td>Computers&amp;Accessories|Accessories&amp;Peripherals|...</td>\n",
       "      <td>High Compatibility : Compatible With iPhone 12...</td>\n",
       "      <td>Wayona Nylon Braided USB to Lightning Fast Cha...</td>\n",
       "    </tr>\n",
       "  </tbody>\n",
       "</table>\n",
       "</div>"
      ],
      "text/plain": [
       "                                        product_name  ...                                      combined_text\n",
       "0  Wayona Nylon Braided USB to Lightning Fast Cha...  ...  Wayona Nylon Braided USB to Lightning Fast Cha...\n",
       "\n",
       "[1 rows x 4 columns]"
      ]
     },
     "execution_count": 5,
     "metadata": {},
     "output_type": "execute_result"
    }
   ],
   "source": [
    "df['combined_text'] = ''\n",
    "for col in df.columns:\n",
    "    df['combined_text'] += df[col] + '\\n'\n",
    "df.head(1)"
   ]
  },
  {
   "cell_type": "code",
   "execution_count": 7,
   "id": "e517c500-16f3-4f4d-8985-6a6d592a2432",
   "metadata": {},
   "outputs": [
    {
     "data": {
      "text/plain": [
       "1465"
      ]
     },
     "execution_count": 7,
     "metadata": {},
     "output_type": "execute_result"
    }
   ],
   "source": [
    "len(df)"
   ]
  },
  {
   "cell_type": "markdown",
   "id": "fadbee60-f66d-47cc-a5a6-6a435bcfc006",
   "metadata": {},
   "source": [
    "## Create Embeddings"
   ]
  },
  {
   "cell_type": "code",
   "execution_count": 6,
   "id": "93f8ce28-9ddb-49b2-b605-8439c0d3e12d",
   "metadata": {},
   "outputs": [],
   "source": [
    "# load the embedding model\n",
    "model = SentenceTransformer('BAAI/bge-small-en')\n",
    "\n",
    "# convert text to embeddings\n",
    "embeddings = model.encode(df['combined_text'].tolist())"
   ]
  },
  {
   "cell_type": "markdown",
   "id": "9957ff0d-6729-437d-b837-f7061f7790d4",
   "metadata": {},
   "source": [
    "## Initialize ChromaDB"
   ]
  },
  {
   "cell_type": "code",
   "execution_count": 8,
   "id": "c4f382be-78ab-4fcb-b264-23d25c316be8",
   "metadata": {},
   "outputs": [],
   "source": [
    "client = chromadb.Client(Settings())\n",
    "# create collection\n",
    "collection_name = 'product_search'\n",
    "collection = client.create_collection(name=collection_name)"
   ]
  },
  {
   "cell_type": "code",
   "execution_count": 9,
   "id": "7eaf41de-1921-4ec6-863f-788d7ec0bfde",
   "metadata": {},
   "outputs": [],
   "source": [
    "# prepare the data for chromadb\n",
    "ids = []\n",
    "metadatas = []\n",
    "for i in range(len(embeddings)):\n",
    "    ids.append(str(i))\n",
    "    metadatas.append({'product_name': df['product_name'][i]})\n",
    "\n",
    "# insert the data into the collection\n",
    "collection.add(ids=ids, embeddings=embeddings, metadatas=metadatas)"
   ]
  },
  {
   "cell_type": "code",
   "execution_count": 10,
   "id": "3c500282-f238-476f-85cf-2fbe46400439",
   "metadata": {},
   "outputs": [],
   "source": [
    "# create function for retrieval\n",
    "def vector_search(query, model, collection, top_n=10):\n",
    "    # get embedding for query\n",
    "    query_embedding = model.encode([query])\n",
    "\n",
    "    # search the chroma index\n",
    "    result = collection.query(query_embeddings=query_embedding, n_results=top_n)\n",
    "\n",
    "    return result"
   ]
  },
  {
   "cell_type": "code",
   "execution_count": 13,
   "id": "6dcda3b5-6ff4-4abe-b0c5-8dd290f27dd8",
   "metadata": {},
   "outputs": [
    {
     "name": "stdout",
     "output_type": "stream",
     "text": [
      "ID: 413\n",
      "Product Name: Ambrane 10000mAh Slim Power Bank, 20W Fast Charging, Dual Output, Type C PD (Input & Output), Quick Charge, Li-Polymer, Multi-Layer Protection for iPhone, Anrdoid & Other Devices (Stylo 10K, Black)\n",
      "---------------------------------------------------\n",
      "ID: 444\n",
      "Product Name: Ambrane 10000mAh Slim Power Bank, 20W Fast Charging, Dual Output, Type C PD (Input & Output), Quick Charge, Li-Polymer, Multi-Layer Protection for iPhone, Anrdoid & Other Devices (Stylo 10K, Green)\n",
      "---------------------------------------------------\n",
      "ID: 657\n",
      "Product Name: Ambrane 20000mAh Power Bank with 20W Fast Charging, Triple Output, Power Delivery, Type C Input, Made in India, Multi-Layer Protection, Li-Polymer + Type C Cable (Stylo-20k, Black)\n",
      "---------------------------------------------------\n",
      "ID: 417\n",
      "Product Name: Ambrane 20000mAh Power Bank with 20W Fast Charging, Triple Output, Power Delivery, Type C Input, Made in India, Multi-Layer Protection, Li-Polymer + Type C Cable (Stylo-20k, Black)\n",
      "---------------------------------------------------\n",
      "ID: 577\n",
      "Product Name: Ambrane 27000mAh Power Bank, 20W Fast Charging, Triple Output, Type C PD (Input & Output), Quick Charge, Li-Polymer, Multi-Layer Protection for iPhone, Smartphones & Other Devices (Stylo Pro, Black)\n",
      "---------------------------------------------------\n"
     ]
    }
   ],
   "source": [
    "# sample usage\n",
    "query = 'ambrane 10000mah powerbank'\n",
    "search_results = vector_search(query, model, collection, 5)\n",
    "\n",
    "# display results\n",
    "for id, product in zip(search_results['ids'][0], search_results['metadatas'][0]):\n",
    "    print(f'ID: {id}\\nProduct Name: {product['product_name']}\\n---------------------------------------------------')"
   ]
  },
  {
   "cell_type": "code",
   "execution_count": 14,
   "id": "cfe4e10e-00ce-4137-a5e5-608cbbc0c719",
   "metadata": {},
   "outputs": [],
   "source": [
    "# delete id 417\n",
    "collection.delete(ids=['417'])"
   ]
  },
  {
   "cell_type": "code",
   "execution_count": 15,
   "id": "e416eb74-1557-4eee-beef-7ca9e55634ef",
   "metadata": {},
   "outputs": [
    {
     "name": "stdout",
     "output_type": "stream",
     "text": [
      "ID: 413\n",
      "Product Name: Ambrane 10000mAh Slim Power Bank, 20W Fast Charging, Dual Output, Type C PD (Input & Output), Quick Charge, Li-Polymer, Multi-Layer Protection for iPhone, Anrdoid & Other Devices (Stylo 10K, Black)\n",
      "---------------------------------------------------\n",
      "ID: 444\n",
      "Product Name: Ambrane 10000mAh Slim Power Bank, 20W Fast Charging, Dual Output, Type C PD (Input & Output), Quick Charge, Li-Polymer, Multi-Layer Protection for iPhone, Anrdoid & Other Devices (Stylo 10K, Green)\n",
      "---------------------------------------------------\n",
      "ID: 657\n",
      "Product Name: Ambrane 20000mAh Power Bank with 20W Fast Charging, Triple Output, Power Delivery, Type C Input, Made in India, Multi-Layer Protection, Li-Polymer + Type C Cable (Stylo-20k, Black)\n",
      "---------------------------------------------------\n",
      "ID: 577\n",
      "Product Name: Ambrane 27000mAh Power Bank, 20W Fast Charging, Triple Output, Type C PD (Input & Output), Quick Charge, Li-Polymer, Multi-Layer Protection for iPhone, Smartphones & Other Devices (Stylo Pro, Black)\n",
      "---------------------------------------------------\n",
      "ID: 901\n",
      "Product Name: URBN 10000 mAh Lithium Power Bank UPR10K with 12 Watt Fast Charging, Blue\n",
      "---------------------------------------------------\n"
     ]
    }
   ],
   "source": [
    "query = 'ambrane 10000mah powerbank'\n",
    "search_results = vector_search(query, model, collection, 5)\n",
    "\n",
    "# display results\n",
    "for id, product in zip(search_results['ids'][0], search_results['metadatas'][0]):\n",
    "    print(f'ID: {id}\\nProduct Name: {product['product_name']}\\n---------------------------------------------------')"
   ]
  },
  {
   "cell_type": "code",
   "execution_count": 16,
   "id": "a820376a-0a72-46d0-92bc-6bd400468e0c",
   "metadata": {},
   "outputs": [],
   "source": [
    "# update existing item\n",
    "collection.update(\n",
    "    ids=['413'],\n",
    "    metadatas=[{'product_name': 'Ambrane 10000mAh Slim Power Bank, 20W Fast Charging, Dual Output, Type C PD (Input & Output), Quick Charge, Li-Polymer, Multi-Layer Protection for iPhone, Anrdoid & Other Devices (Stylo 10K, Red)'}]\n",
    ")"
   ]
  },
  {
   "cell_type": "code",
   "execution_count": 17,
   "id": "aac5b946-c266-4721-a99e-9b732e842ecb",
   "metadata": {},
   "outputs": [
    {
     "name": "stdout",
     "output_type": "stream",
     "text": [
      "ID: 413\n",
      "Product Name: Ambrane 10000mAh Slim Power Bank, 20W Fast Charging, Dual Output, Type C PD (Input & Output), Quick Charge, Li-Polymer, Multi-Layer Protection for iPhone, Anrdoid & Other Devices (Stylo 10K, Red)\n",
      "---------------------------------------------------\n",
      "ID: 444\n",
      "Product Name: Ambrane 10000mAh Slim Power Bank, 20W Fast Charging, Dual Output, Type C PD (Input & Output), Quick Charge, Li-Polymer, Multi-Layer Protection for iPhone, Anrdoid & Other Devices (Stylo 10K, Green)\n",
      "---------------------------------------------------\n",
      "ID: 657\n",
      "Product Name: Ambrane 20000mAh Power Bank with 20W Fast Charging, Triple Output, Power Delivery, Type C Input, Made in India, Multi-Layer Protection, Li-Polymer + Type C Cable (Stylo-20k, Black)\n",
      "---------------------------------------------------\n",
      "ID: 577\n",
      "Product Name: Ambrane 27000mAh Power Bank, 20W Fast Charging, Triple Output, Type C PD (Input & Output), Quick Charge, Li-Polymer, Multi-Layer Protection for iPhone, Smartphones & Other Devices (Stylo Pro, Black)\n",
      "---------------------------------------------------\n",
      "ID: 901\n",
      "Product Name: URBN 10000 mAh Lithium Power Bank UPR10K with 12 Watt Fast Charging, Blue\n",
      "---------------------------------------------------\n"
     ]
    }
   ],
   "source": [
    "query = 'ambrane 10000mah powerbank'\n",
    "search_results = vector_search(query, model, collection, 5)\n",
    "\n",
    "# display results\n",
    "for id, product in zip(search_results['ids'][0], search_results['metadatas'][0]):\n",
    "    print(f'ID: {id}\\nProduct Name: {product['product_name']}\\n---------------------------------------------------')"
   ]
  },
  {
   "cell_type": "code",
   "execution_count": null,
   "id": "e0573cf6-1133-4120-923b-cb3e38751d6b",
   "metadata": {},
   "outputs": [],
   "source": []
  },
  {
   "cell_type": "code",
   "execution_count": null,
   "id": "9b75dc93-29b7-43ea-8bf0-e36369c0730b",
   "metadata": {},
   "outputs": [],
   "source": []
  }
 ],
 "metadata": {
  "kernelspec": {
   "display_name": "Python 3 (ipykernel)",
   "language": "python",
   "name": "python3"
  },
  "language_info": {
   "codemirror_mode": {
    "name": "ipython",
    "version": 3
   },
   "file_extension": ".py",
   "mimetype": "text/x-python",
   "name": "python",
   "nbconvert_exporter": "python",
   "pygments_lexer": "ipython3",
   "version": "3.12.3"
  },
  "widgets": {
   "application/vnd.jupyter.widget-state+json": {
    "state": {},
    "version_major": 2,
    "version_minor": 0
   }
  }
 },
 "nbformat": 4,
 "nbformat_minor": 5
}
